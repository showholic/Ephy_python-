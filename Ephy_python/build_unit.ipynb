{
 "cells": [
  {
   "cell_type": "code",
   "execution_count": 4,
   "metadata": {},
   "outputs": [
    {
     "name": "stderr",
     "output_type": "stream",
     "text": [
      "UsageError: Line magic function `%writefile` not found (But cell magic `%%writefile` exists, did you mean that instead?).\n"
     ]
    }
   ],
   "source": [
    "import nexfile as nex\n",
    "import numpy as np\n",
    "import os\n",
    "import pandas as pd\n",
    "import matplotlib.pyplot as plt\n",
    "from tkinter import filedialog\n",
    "from tkinter import *\n",
    "%writefile build_unit.py\n",
    "%matplotlib inline\n",
    "\n",
    "class Marker:\n",
    "    def __init__(self,record,door,protocol):\n",
    "        self.record=record\n",
    "        self.door=door\n",
    "        self.protocol=protocol\n",
    "        \n",
    "class Waveform:\n",
    "    def __init__(self,timestamps,values,sr):\n",
    "        self.timestamps=timestamps\n",
    "        self.values=values\n",
    "        self.sr=sr\n",
    "        self.peak_trough_dur=FindPTdur(self.values,self.sr)\n",
    "    def Plotwf(self):\n",
    "        avgwf=np.mean(self.values,axis=0)\n",
    "        sdwf=np.std(self.values,axis=0)\n",
    "        x=np.linspace(1,len(avgwf),len(avgwf))  #*(1/self.sr)*1000\n",
    "        plt.plot(x,avgwf)\n",
    "        plt.fill_between(x,avgwf+sdwf,avgwf-sdwf,alpha=0.3)\n",
    "        plt.show()\n",
    "        print('Peak-Trough duration is %.3f ms' %self.peak_trough_dur)\n",
    "\n",
    "#Calculate the peak trough duration \n",
    "def FindPTdur(wfvalue,samplingrate):\n",
    "    avgwf=np.mean(wfvalue,axis=0)\n",
    "    avgquad=avgwf.reshape(4,-1)\n",
    "    return (avgquad.min(axis=0).argmax()-avgquad.min(axis=0).argmin())*(1/samplingrate)*1000 #in ms\n",
    "    \n",
    "class Unit:\n",
    "    def __init__(self,spktrain,marker,waveform): #marker and waveform are class as well \n",
    "        self.spktrain=spktrain\n",
    "        self.marker=marker\n",
    "        self.waveform=waveform \n",
    "        self.ctx=self.split_context()\n",
    "        self.cdi=[calc_cdi(self.ctx),calc_cdi(self.ctx,method=1)]\n",
    "        \n",
    "    def split_context(self,plot_ctx=False,plot_buffer=False):\n",
    "        context=[{} for x in range(len(np.unique(self.marker.protocol))+1)]\n",
    "\n",
    "        #construct the explored context \n",
    "        for c,ctx in enumerate(np.unique(self.marker.protocol)):\n",
    "            context[c]['name']=ctx\n",
    "            context[c]['index']=np.where(np.asarray(self.marker.protocol)==ctx)[0] #find the indices of specific contexts \n",
    "            context[c]['spkt']=[]\n",
    "            context[c]['spkc']=[]\n",
    "            context[c]['dur']=[]\n",
    "            context[c]['fr']=[]\n",
    "            for n,t in enumerate(context[c]['index']):\n",
    "                context[c]['spkt'].append(self.spktrain[(self.spktrain>=self.marker.door[0][t]) \\\n",
    "                                                        &(self.spktrain<=self.marker.record[1][t])]-self.marker.door[0][t])\n",
    "                context[c]['spkc'].append(context[c]['spkt'][n].size)\n",
    "                context[c]['dur'].append(self.marker.record[1][t]-self.marker.door[0][t])\n",
    "                context[c]['fr'].append(context[c]['spkt'][n].size/context[c]['dur'][n])\n",
    "                #we define here from door open to record end \n",
    "\n",
    "        #construct the buffer context \n",
    "        context[-1]['name']='buffer'\n",
    "        context[-1]['index']=np.asarray([int(i) for i in range(len(self.marker.protocol))])\n",
    "        context[-1]['spkt']=[]\n",
    "        context[-1]['spkc']=[]\n",
    "        context[-1]['dur']=[]\n",
    "        context[-1]['fr']=[]\n",
    "        for n,t in enumerate(context[-1]['index']):\n",
    "            context[-1]['spkt'].append(self.spktrain[(self.spktrain>=self.marker.record[0][t]) \\\n",
    "                                                        &(self.spktrain<=self.marker.door[0][t])]-self.marker.record[0][t])\n",
    "            context[-1]['spkc'].append(context[-1]['spkt'][n].size)\n",
    "            context[-1]['dur'].append(self.marker.door[0][t]-self.marker.record[0][t])\n",
    "            context[-1]['fr'].append(context[-1]['spkt'][n].size/context[-1]['dur'][n])\n",
    "            #we define here from record start to door open \n",
    "        \n",
    "        #Plot the spike histogram for context A and B\n",
    "        if plot_ctx:\n",
    "            print('CDI:' + str(self.cdi))\n",
    "            i=0;\n",
    "            top=[]\n",
    "            ax=[]\n",
    "            fig=plt.figure(figsize=(8,4))\n",
    "            for c in range(2):    \n",
    "                for t,spk in enumerate(context[c]['spkt']): \n",
    "                    ax.append(fig.add_subplot(2,4,4*c+t+1))\n",
    "                    top.append(plot_spkhist(spk,ax[i]))\n",
    "                    i+=1\n",
    "            for j,axis in enumerate(ax): #set the ylim the same across trials\n",
    "                axis.set_ylim([0,max(top)])\n",
    "                if j!=0:\n",
    "                    axis.set_ylabel('')\n",
    "                    axis.get_yaxis().set_visible(False)\n",
    "                    \n",
    "        if plot_buffer:\n",
    "            i=0;\n",
    "            axbuffer=[]  \n",
    "            top2=[]\n",
    "            fig2=plt.figure(figsize=(8,2))\n",
    "            for t,spk in enumerate(context[-1]['spkt']): \n",
    "                axbuffer.append(fig2.add_subplot(1,8,t+1))\n",
    "                top2.append(plot_spkhist(spk,axbuffer[i],tlim=(0,60)))\n",
    "                i+=1\n",
    "            for j,axis in enumerate(axbuffer): #set the ylim the same across trials\n",
    "                if max(top2)<max(top):\n",
    "                    axis.set_ylim([0,max(top)])\n",
    "                else:\n",
    "                    axis.set_ylim([0,max(top2)])\n",
    "                if j!=0:\n",
    "                    axis.set_ylabel('')\n",
    "                    axis.get_yaxis().set_visible(False)\n",
    "        return context\n",
    "\n",
    "    \n",
    "    def split_trial(self): #split by trial, which contain both       \n",
    "        trial=[{} for x in range(len(self.marker.record[0]))]\n",
    "        for t,(tstart,tend) in enumerate(zip(self.marker.record[0], self.marker.record[1])):            \n",
    "            trial[t]['spkt']=(self.spktrain[(self.spktrain>=tstart) & (self.spktrain<=tend)]-tstart)\n",
    "            trial[t]['name']=self.marker.protocol[t]\n",
    "        return trial\n",
    "\n",
    "#The primary function for builidng a unit \n",
    "def buildneurons(pathname=os.path.join(os.getcwd(),'nexdata'),filename='03062019001-008'):\n",
    "    #import nex file with a GUI window \n",
    "    try:\n",
    "        filepath=os.path.join(pathname,filename)+'.nex'\n",
    "        nexin=nex.Reader(useNumpy=True).ReadNexFile(filepath)\n",
    "    except:\n",
    "        root = Tk()\n",
    "        filepath=filedialog.askopenfilename(initialdir=os.getcwd(),title='Select File')\n",
    "        root.destroy()\n",
    "        nexin=nex.Reader(useNumpy=True).ReadNexFile(filepath)\n",
    "    neurons=[]\n",
    "    waveforms=[]\n",
    "    events=[]\n",
    "    markers=[]\n",
    "\n",
    "    for var in nexin['Variables']:\n",
    "        if var['Header']['Type']==0:\n",
    "            neurons.append(var)\n",
    "            #print('neuron',len(neurons))\n",
    "        if var['Header']['Type']==1:\n",
    "            events.append(var)\n",
    "            #print('events',len(events))\n",
    "        if var['Header']['Type']==3:\n",
    "            waveforms.append(var)\n",
    "            #print('waveforms',len(waveforms))\n",
    "        if var['Header']['Type'] == 6 and len(var['Timestamps']) != 0:\n",
    "            markers.append(var)\n",
    "            #print('markers',len(markers))    \n",
    "    \n",
    "    #ask for user input of context protocol\n",
    "    input_protocol=[str(x) for x in input('Enter the order of context protocol: ').split() or 'A B A B A B B A'.split()] \n",
    "    print(input_protocol)\n",
    "    \n",
    "    record_marker=[events[0]['Timestamps'],events[1]['Timestamps']]\n",
    "    door_marker=[]\n",
    "    for mrker in markers:\n",
    "        if mrker['Header']['Name']=='KBD1':\n",
    "            door_marker.insert(0,mrker['Timestamps'])\n",
    "        elif mrker['Header']['Name']=='KBD3':\n",
    "            door_marker.insert(1,mrker['Timestamps'])\n",
    "    door_marker=door_marker[0:2]\n",
    "    allmarker=Marker(record_marker,door_marker,input_protocol)\n",
    "    ensemble=[]\n",
    "    for i in range(1,len(neurons)):\n",
    "        ensemble.append(Unit(neurons[i]['Timestamps'],allmarker,Waveform(waveforms[i]['Timestamps'],waveforms[i]['WaveformValues'],waveforms[i]['Header']['SamplingRate'])))\n",
    "    return ensemble\n",
    "\n",
    "### Some general plot functions are defined here ###\n",
    "\n",
    "#1. raster\n",
    "def plot_raster(neuralData,linecolor=[0,0,0],linesize=0.5,x='trial#',title_name='Spike raster plot'):\n",
    "    plt.eventplot(neuralData,color=linecolor,linelengths=linesize)\n",
    "    plt.title(title_name)\n",
    "    plt.ylabel(x)\n",
    "\n",
    "#2. spike histogram\n",
    "def plot_spkhist(neuralData,ax,dt=5,tlim=(0,300)):\n",
    "    spkc_hist=np.histogram(neuralData,bins=tlim[1]//dt,range=tlim)\n",
    "    fr_hist=spkc_hist[0]/dt\n",
    "    plt.bar(spkc_hist[1][:-1],fr_hist,width=dt)\n",
    "    plt.xlabel('Time (s)')\n",
    "    plt.ylabel('Firing rate (Hz)')\n",
    "    ylimit=ax.get_ylim()\n",
    "    return ylimit[1]\n",
    "\n",
    "\n",
    "### Numeric computation functions are defined here ###\n",
    "def calc_cdi(context,method=0):\n",
    "    if method==0:\n",
    "        avg_fr=[]\n",
    "        for i in range(2):\n",
    "            avg_fr.append(sum(context[i]['spkc'])/sum(context[i]['dur']))\n",
    "        cdi=(avg_fr[0]-avg_fr[1])/(avg_fr[0]+avg_fr[1])\n",
    "    elif method==1:\n",
    "        cdi_singletrial=[]\n",
    "        for fr1,fr2 in zip(context[0]['fr'],context[1]['fr']):\n",
    "            cdi_singletrial.append((fr1-fr2)/(fr1+fr2))\n",
    "        cdi=np.mean(np.asarray(cdi_singletrial))\n",
    "        \n",
    "    return cdi"
   ]
  },
  {
   "cell_type": "code",
   "execution_count": 276,
   "metadata": {},
   "outputs": [],
   "source": [
    "def bootstrap_context(Unit,eval_method='cdi',shuffle_num=10000):\n",
    "    init_t=0\n",
    "    spkt_ob=[]\n",
    "    tstart=[]\n",
    "    tend=[]\n",
    "    dur=[]\n",
    "    ttemp=0\n",
    "    #create a long spiketrain containing only spikes from context \n",
    "    for i,record_end in enumerate(Unit.marker.record[1]):\n",
    "        spkctx=Unit.spktrain[(Unit.spktrain>=Unit.marker.door[0][i])&(Unit.spktrain<=record_end)]-Unit.marker.door[0][i]\n",
    "        spkt_ob.append(spkctx+init_t)\n",
    "        dur.append((record_end-Unit.marker.door[0][i]))\n",
    "        init_t+=dur[i]\n",
    "        tstart.append(ttemp)\n",
    "        tend.append(ttemp+dur[i])\n",
    "        ttemp+=dur[i]        \n",
    "    spkt_observed=np.concatenate(spkt_ob)\n",
    "    #keep the ISI the same but shuffled \n",
    "    ISI=np.insert(np.diff(spkt_observed),0,Unit.spktrain[1])  \n",
    "    #create pseudo spiketrains\n",
    "    spk_shuffle=[]\n",
    "    for i in range(shuffle_num):\n",
    "        spk_new=[]\n",
    "        currentspk=0\n",
    "        new_ISI=np.random.permutation(ISI)\n",
    "        for isi in new_ISI:\n",
    "            spk_new.append(currentspk+isi)\n",
    "            currentspk+=isi\n",
    "        spk_shuffle.append(np.array(spk_new))\n",
    "    cdi_observed=cal_ctx_cdi(spkt_observed,Unit,tstart,tend,dur)\n",
    "    cdi_shuffle=[]\n",
    "    for spk_s in spk_shuffle:\n",
    "        cdi_shuffle.append(cal_ctx_cdi(spk_s,Unit,tstart,tend,dur))\n",
    "               \n",
    "    return cdi_observed,cdi_shuffle\n",
    "    \n",
    "def cal_ctx_cdi(spk,Unit,tstart,tend,dur):\n",
    "    ctx_bs=[{} for x in range(len(np.unique(Unit.marker.protocol)))]       \n",
    "    for c,ctx in enumerate(np.unique(Unit.marker.protocol)):\n",
    "        ctx_bs[c]['name']=ctx\n",
    "        ctx_bs[c]['index']=np.where(np.asarray(Unit.marker.protocol)==ctx)[0]\n",
    "        ctx_bs[c]['spkt']=[]\n",
    "        ctx_bs[c]['spkc']=[]\n",
    "        ctx_bs[c]['dur']=[]\n",
    "        ctx_bs[c]['fr']=[]\n",
    "        for n,t in enumerate(ctx_bs[c]['index']):\n",
    "            ctx_bs[c]['spkt'].append(spk[(spk>=tstart[t]) & (spk<=tend[t])])\n",
    "            ctx_bs[c]['dur'].append(dur[t])\n",
    "            ctx_bs[c]['spkc'].append(ctx_bs[c]['spkt'][n].size)\n",
    "            ctx_bs[c]['fr'].append(ctx_bs[c]['spkc'][n]/dur[t])\n",
    "    avg_fr=[]\n",
    "    for i in range(2):\n",
    "        avg_fr.append(sum(ctx_bs[i]['spkc'])/sum(ctx_bs[i]['dur']))\n",
    "    cdi=(avg_fr[0]-avg_fr[1])/(avg_fr[0]+avg_fr[1])\n",
    "    return cdi\n"
   ]
  },
  {
   "cell_type": "code",
   "execution_count": 111,
   "metadata": {},
   "outputs": [
    {
     "name": "stdin",
     "output_type": "stream",
     "text": [
      "Enter the order of context protocol:  \n"
     ]
    },
    {
     "name": "stdout",
     "output_type": "stream",
     "text": [
      "['A', 'B', 'A', 'B', 'A', 'B', 'B', 'A']\n"
     ]
    }
   ],
   "source": [
    "ensemble=buildneurons()"
   ]
  },
  {
   "cell_type": "code",
   "execution_count": 288,
   "metadata": {},
   "outputs": [
    {
     "name": "stdout",
     "output_type": "stream",
     "text": [
      "CDI:[-0.25028448480660825, -0.2488872421623617]\n"
     ]
    },
    {
     "data": {
      "image/png": "[encoded data removed]",
      "text/plain": [
       "<Figure size 576x288 with 8 Axes>"
      ]
     },
     "metadata": {
      "needs_background": "light"
     },
     "output_type": "display_data"
    },
    {
     "data": {
      "image/png": "[encoded data removed]",
      "text/plain": [
       "<Figure size 576x144 with 8 Axes>"
      ]
     },
     "metadata": {
      "needs_background": "light"
     },
     "output_type": "display_data"
    }
   ],
   "source": [
    "myUnit=ensemble[6]\n",
    "ctx=myUnit.split_context(plot_ctx=True,plot_buffer=True)"
   ]
  },
  {
   "cell_type": "code",
   "execution_count": 289,
   "metadata": {},
   "outputs": [
    {
     "data": {
      "image/png": "[encoded data removed]",
      "text/plain": [
       "<Figure size 432x288 with 1 Axes>"
      ]
     },
     "metadata": {
      "needs_background": "light"
     },
     "output_type": "display_data"
    }
   ],
   "source": [
    "cdi1,cdi2=bootstrap_context(myUnit)\n",
    "plt.hist(cdi2,bins=100)\n",
    "plt.axvline(cdi1,color='g')\n",
    "plt.show()"
   ]
  }
 ],
 "metadata": {
  "kernelspec": {
   "display_name": "Python 3",
   "language": "python",
   "name": "python3"
  },
  "language_info": {
   "codemirror_mode": {
    "name": "ipython",
    "version": 3
   },
   "file_extension": ".py",
   "mimetype": "text/x-python",
   "name": "python",
   "nbconvert_exporter": "python",
   "pygments_lexer": "ipython3",
   "version": "3.7.0"
  }
 },
 "nbformat": 4,
 "nbformat_minor": 2
}
